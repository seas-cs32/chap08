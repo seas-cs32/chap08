{
  "cells": [
    {
      "cell_type": "markdown",
      "metadata": {
        "id": "nIucVUtZaEak"
      },
      "source": [
        "CS32 2023 Student: **REPLACE this bold text with YOUR NAME**"
      ]
    },
    {
      "cell_type": "markdown",
      "metadata": {
        "id": "8wMGd_g2o92w"
      },
      "source": [
        "## Part 2: Find Wenda, not Odlaw\n",
        "\n",
        "Interactive Python notebook for CS32 pset4, part 2."
      ]
    },
    {
      "cell_type": "code",
      "execution_count": null,
      "metadata": {
        "id": "x7OGqV1JBnlX"
      },
      "outputs": [],
      "source": [
        "from google.colab import drive\n",
        "drive.mount('/content/drive')"
      ]
    },
    {
      "cell_type": "code",
      "execution_count": null,
      "metadata": {
        "id": "ZqhyZSKM1jMG"
      },
      "outputs": [],
      "source": [
        "!mkdir images\n",
        "!cp drive/MyDrive/cs32-class/chap08/images/test*.png images\n",
        "!cp drive/MyDrive/cs32-class/chap08/images/challenge.png images"
      ]
    },
    {
      "cell_type": "markdown",
      "metadata": {
        "id": "jpPTmH0C2O3i"
      },
      "source": [
        "In class, we learned about different traversals through our 2-dimensional data set. Let's play a game to test our ability to use this new knowledge.\n",
        "\n",
        "> Your challenge will be to \"find\" Wenda's hidden image in a challenge envelope image. The challenge image will not only contain Wenda, but a number of copies of an image of Waldo's nemesis, Odlaw. Find Wenda without uncovering any image of Odlaw!\n",
        "\n",
        "**In particular, the code you write should take the challenge image and produce a partially deblended image in which you've uncovered a bit of Wenda *without* uncovering any of the one or more Odlaws also hidden in the challenge image.**\n",
        "\n",
        "Warning! Although part 1 of this pset taught you how to uncover hidden images in an envelope image, it won't be as easy as deblending the challenge image, figuring out which traversal will work, and then coding that traversal. We've stuck a few hidden ghost images of Wenda in our challenge image, plus a bunch of Odlaws, who are out to keep you from your goal!"
      ]
    },
    {
      "cell_type": "markdown",
      "metadata": {
        "id": "b_MfkXT4jQ-i"
      },
      "source": [
        "**Step 1. Some helper functions.**  We'll begin with some helpful routines.  The first is your `bitextract` function, which you wrote in part 1. Update the body of `bitextract` function below with code that works."
      ]
    },
    {
      "cell_type": "code",
      "execution_count": null,
      "metadata": {
        "id": "vHWO7no6MwUY"
      },
      "outputs": [],
      "source": [
        "from PIL import Image\n",
        "\n",
        "def bitextract(y):\n",
        "    '''Extract the hidden color'''\n",
        "    z = y    # DELETE ME; JUST ALLOWS INCOMPLETE CODE TO RUN\n",
        "    return z"
      ]
    },
    {
      "cell_type": "markdown",
      "metadata": {
        "id": "sFPEUWv2jQ-k"
      },
      "source": [
        "The other two are new routines.  The function `pixel_extract` collects in a function the work we did in the body of part 1's `deblend` function. We capture this code in a function, since we might (hint, hint) want to call these statements from multiple points in a function we'll write in a moment.\n",
        "\n",
        "The other function is called `looks_like`, and it takes an RGB pixel and tells you whether this pixel looks like Wenda, Odlaw, or neither.  We'll talk more about this function and the code in `pixel_extract` that calls it.\n",
        "\n",
        "You DO NOT need to make any modifications to either of these helper routines, nor do you need to understand exactly how `looks_like` accomplishes its task. You SHOULD understand how `pixel_extract` works and why, as we'll discuss in greater detail in moment.\n",
        "\n",
        "Make sure you run this and the previous code blocks so that you can use all these functions!"
      ]
    },
    {
      "cell_type": "code",
      "execution_count": null,
      "metadata": {
        "id": "gGeiunpJjQ-k"
      },
      "outputs": [],
      "source": [
        "def looks_like(pixel):\n",
        "    '''Given an RGB pixel, alerts caller to presence of a Waldo-world character'''\n",
        "    r, g, b = pixel\n",
        "\n",
        "    if r < 0x20 and g >= 0x80 and b >= 0xc0:\n",
        "        return 'looks like Wenda'\n",
        "    elif r >= 0xf0 and g >= 0xf0 and b < 0x30:\n",
        "        return 'looks like Odlaw'\n",
        "    else:\n",
        "        return 'looks like neither'\n",
        "\n",
        "def pixel_extract(im, x, y):\n",
        "    '''Extracts the hidden colors in a pixel at im[x][y]\n",
        "\n",
        "       This routine modifies the input image.\n",
        "    '''\n",
        "    r, g, b = im.getpixel((x,y))\n",
        "\n",
        "    # Extract the hidden colors in this pixel\n",
        "    r_hidden = bitextract(r)\n",
        "    g_hidden = bitextract(g)\n",
        "    b_hidden = bitextract(b)\n",
        "\n",
        "    im.putpixel((x,y), (r_hidden, g_hidden, b_hidden))\n",
        "\n",
        "    ans = looks_like((r_hidden, g_hidden, b_hidden))\n",
        "    if ans != 'looks like neither':\n",
        "        raise ValueError(f'Found {ans.split()[2]} at ({x},{y})')"
      ]
    },
    {
      "cell_type": "markdown",
      "metadata": {
        "id": "gF9LbszKjQ-l"
      },
      "source": [
        "**Step 2. Coding for multiple traversals.**  This challenge asks you to write a function that does the work of `deblend` (from part 1), but with a looping structure that traverses the image starting at a specified corner and from that corner in either row- or column-major order. Let's call this new function `traverse`.\n",
        "\n",
        "This function will know what traversal to follow from the parameters with which we call it. If you recall, we wrote our original `deblend` function so that it took only the image to deblend. Our new function will add two additional parameters: `major` and `corner`. The docstring describes how we'll use these two parameters."
      ]
    },
    {
      "cell_type": "code",
      "execution_count": null,
      "metadata": {
        "id": "88PajzoejQ-l"
      },
      "outputs": [],
      "source": [
        "def traverse(im, major, corner):\n",
        "    '''Search input envelope image for Waldo-world characters\n",
        "\n",
        "       Returns as soon as it finds a character with a string that says what\n",
        "       character it found and where, or that says 'Found none'.  It also\n",
        "       returns a partially (or fully, if no character found) deblended image.\n",
        "\n",
        "       When calling this routine, you need to specify how you'd like it to\n",
        "       perform the traversal.  By specifying `major` as 'row' or 'col', you get\n",
        "       row-major or column-major traversal.  By specifying one of 'upper left',\n",
        "       'lower left', 'upper right', or 'lower right', you start from that\n",
        "       specified corner.\n",
        "    '''\n",
        "    # Check validity of search specification keywords\n",
        "    if major != 'row' and major != 'col':\n",
        "        raise ValueError('Unrecognized major specification')\n",
        "    if (corner != 'upper left'  and corner != 'lower left' and\n",
        "        corner != 'upper right' and corner != 'lower right'):\n",
        "        raise ValueError('Unrecognized corner')\n",
        "\n",
        "    # Translate the corner into `range` parameters\n",
        "    # FIXME! Write this code.\n",
        "\n",
        "    # Leave original image unchanged\n",
        "    im2 = im.copy()\n",
        "\n",
        "    try:\n",
        "        # FIXME! Write the looping code that does the specified traversal\n",
        "        pass  # DELETE ME; JUST ALLOWS INCOMPLETE CODE TO RUN\n",
        "    except ValueError as msg:\n",
        "        return (str(msg), im2)\n",
        "    else:\n",
        "        return ('Found none', im2)"
      ]
    },
    {
      "cell_type": "markdown",
      "metadata": {
        "id": "Z32oumm8jQ-l"
      },
      "source": [
        "**Step 3. The driver routine.**  Before we talk about what statements you need to add to complete this function, let's look at the routine that will call `traverse`. We call it `check_traversals` and it simply takes the challenge image (i.e., our envelope image containing one or more hidden images)."
      ]
    },
    {
      "cell_type": "code",
      "execution_count": null,
      "metadata": {
        "id": "re6pQ_8rjQ-m"
      },
      "outputs": [],
      "source": [
        "def check_traversals(im):\n",
        "    for c in ['upper left', 'lower left', 'upper right', 'lower right']:\n",
        "        for m in ['col', 'row']:\n",
        "            ans, new_im = traverse(im, m, c)\n",
        "            if ans.split()[1] == 'Wenda':\n",
        "                print(f'Starting {c} in {m}-major order: {ans}')\n",
        "                new_im.show()\n",
        "                return\n",
        "    print(\"Wenda wasn't found\")"
      ]
    },
    {
      "cell_type": "markdown",
      "metadata": {
        "id": "KKLfotSFjQ-m"
      },
      "source": [
        "As you can see from the body of `check_traversals`, it contains a nested pair of for-loop statements that together produce every combination of corner and row/column-major ordering we need. With each `c` and `m` combination, we call `traverse`.\n",
        "\n",
        "As its doc-string describes, `traverse` returns the result of the requested traversal in a tuple. The first item in the tuple is a string describing what `traverse` found during that traversal, and the second item is a partially or fully deblended image. If the answer contains the string `'Wenda'`, this driver routine prints our desired result (i.e., where it found Wenda and the correct, partially-deblended image) and exits.\n",
        "\n",
        "If we make it through all of the traversals and never find Wenda, the driver routine prints a message that Wenda wasn't found in the challenge image. This might be because Wenda wasn't hidden in the envelope image or because our coded traversals were not powerful enough to find her."
      ]
    },
    {
      "cell_type": "markdown",
      "metadata": {
        "id": "3VoNxpfDjQ-m"
      },
      "source": [
        "**Step 4. Exceptions.**  If you think about the result of calling `traverse` for a moment, you'll realize that it is getting two pieces of information from two different functions. Specifically, it gets: (1) a partially or fully deblended image directly from `traverse`; and (2) a string describing what character was found (assuming one was) and where it was found from `pixel_extract`.\n",
        "\n",
        "Since `traverse` calls `pixel_extract`, we could have `pixel_extract` return its information to `traverse` through a return statement, as we typically do, but think about where `pixel_extract` is called within `traverse` and how many times it's called. You won't find the answer to that question in the code we've given you, but you will figure it out as you write your code.  Assuming you write some straightforward code, you'll discover that the answer to this question is that `pixel_extract` is called multiple times in `traverse`.\n",
        "\n",
        "Using a return statement in `pixel_extract`, we would have to duplicate the code that turns the information returned from `pixel_extract` into the information we want returned from `traversal`. As we discussed with functions, we don't like unnecessary code duplication because it can lead to errors as we update one piece of our code, but not the other duplicated pieces.  We can avoid this headache by using Python *exceptions*.\n",
        "\n",
        "You've seen us use exceptions to handle exceptional cases and keep that logic for these exceptional cases out of the main stream of the code. We take that idea one step further here and **raise our own exceptions**.\n",
        "\n",
        "Look at the code at the end of `pixel_extract`. Basically, we want this routine to do the work of the body of our old `deblend` routines: grab a pixel and extract the color hidden in it. However, if the extracted pixel looks like one of the exceptional events we want to know about (i.e., that it looks like Wenda or Odlaw), we raise a `ValueError` with our own message.\n",
        "\n",
        "This `raise` statement causes the interpreter to start looking for routines in the call stack (i.e., the list of functions interrupted because they made a call to another routine) that have a handler for a `ValueError` exception.\n",
        "\n",
        "Now look at our skeleton of the `traverse` function. The try-except code at the bottom of this routine effectively registers a `ValueError` exception handler for any calls made in the `try` block. You can now write code that traverses the envelope image using simple nested for-loop statements without worrying that their execution might not complete. If we find Wenda or Odlaw somewhere deep in these computations, the interpreter will simple unwind these computations without your assistance and continue with the statements in the `except` block.\n",
        "\n",
        "The `else` block on the try-except statement simply says what to do if we exit normally from the code within the `try` block.\n",
        "\n",
        "Nice, huh? It makes what code you have to write inside the `try` block simple because you think only about the common operation (i.e., call `pixel_extract` in the right traversal)! So go write what's missing in `traverse`!"
      ]
    },
    {
      "cell_type": "markdown",
      "metadata": {
        "id": "d2VPgwabjQ-n"
      },
      "source": [
        "**Step 5. Tests.**  As you work to develop your solution, you might find these test inputs helpful.\n",
        "\n",
        "1. `test1.png` contains a hidden Wenda and no hidden Odlaws.  Your code should find Wenda on its first traversal from the upper left corner.\n",
        "\n",
        "2. `test2.png` contains a hidden Odlaw and no Wenda.  Your code should say \"Wenda wasn't found\" when run.\n",
        "\n",
        "3. `test3.png` contains a hidden Wenda and Odlaw.  Your code should find Wenda on a row-major traversal from the upper left corner.\n",
        "\n",
        "4. `test4.png` contains a hidden Wenda and Odlaw positioned so that you must start your traversal from a corner other than the upper left to find Wenda.\n",
        "\n",
        "5. `test5.png` contains a hidden Wenda and 3 hidden Odlaws.  If your code successfully completes the first 4 tests, it should complete this one.\n",
        "\n",
        "6. `test6.png` contains a hidden Wenda surrounded by 4 hidden Odlaws.  Your code should fail to find a traversal that leads to Wenda.  This is an example of a situation that requires more sophisticated traversals than we have coded.\n",
        "\n",
        "You can run these tests using the following code block, replacing `test1.png` with whichever test you want to run."
      ]
    },
    {
      "cell_type": "code",
      "execution_count": null,
      "metadata": {
        "id": "nT9HweWEjQ-n"
      },
      "outputs": [],
      "source": [
        "challenge = Image.open(\"images/test1.png\")\n",
        "check_traversals(challenge)"
      ]
    },
    {
      "cell_type": "markdown",
      "metadata": {
        "id": "DOqszMNbjQ-n"
      },
      "source": [
        "**Step 6. Challenge.**  If you've successfully run your code with the test images, go ahead and try `challenge.png`. Feel free to run your `deblend` function on it. It shouldn't help you!"
      ]
    },
    {
      "cell_type": "markdown",
      "metadata": {
        "id": "v8ER9F4MjQ-n"
      },
      "source": [
        "**Note to ambitious students who want to create their own images to search:**  We have sanitized our envelope image before blending it with the images of Wenda and Odlaw to ensure that we can check only 1 bit and know for certain that we're looking at a hidden image of these Waldo-world characters. By sanitize, we mean that certain colors appear only in the hidden images and not in the envelope image (even after deblending!), and if the bit patterns for these certain colors did appear in the original envelope image, we changed the image so that these colors no longer appear."
      ]
    }
  ],
  "metadata": {
    "colab": {
      "provenance": []
    },
    "interpreter": {
      "hash": "aee8b7b246df8f9039afb4144a1f6fd8d2ca17a180786b69acc140d282b71a49"
    },
    "kernelspec": {
      "display_name": "Python 3.9.7 64-bit",
      "name": "python3"
    },
    "language_info": {
      "codemirror_mode": {
        "name": "ipython",
        "version": 3
      },
      "file_extension": ".py",
      "mimetype": "text/x-python",
      "name": "python",
      "nbconvert_exporter": "python",
      "pygments_lexer": "ipython3",
      "version": "3.9.9"
    }
  },
  "nbformat": 4,
  "nbformat_minor": 0
}
